{
  "nbformat": 4,
  "nbformat_minor": 0,
  "metadata": {
    "colab": {
      "provenance": [],
      "authorship_tag": "ABX9TyNSn1zKm5g5dcbWRg8FuVGP"
    },
    "kernelspec": {
      "name": "python3",
      "display_name": "Python 3"
    },
    "language_info": {
      "name": "python"
    }
  },
  "cells": [
    {
      "cell_type": "markdown",
      "source": [
        "!pip3 install torch"
      ],
      "metadata": {
        "id": "kU0xDe39gqIe"
      }
    },
    {
      "cell_type": "code",
      "source": [
        "import torch"
      ],
      "metadata": {
        "id": "43z-RE70p_7o"
      },
      "execution_count": 2,
      "outputs": []
    },
    {
      "cell_type": "code",
      "source": [
        "v = torch.tensor([1,2,3,4,5,6])\n",
        "print(v.dtype)\n",
        "print(v)"
      ],
      "metadata": {
        "colab": {
          "base_uri": "https://localhost:8080/"
        },
        "id": "IzPJT0gPqLB8",
        "outputId": "29c313ee-c496-452e-8c7e-7c492c705677"
      },
      "execution_count": 13,
      "outputs": [
        {
          "output_type": "stream",
          "name": "stdout",
          "text": [
            "torch.int64\n",
            "tensor([1, 2, 3, 4, 5, 6])\n"
          ]
        }
      ]
    },
    {
      "cell_type": "code",
      "source": [
        "f = torch.FloatTensor([1,2,3,4,5,6])\n",
        "print(f.size())\n",
        "print(f.dtype)\n",
        "print(f)"
      ],
      "metadata": {
        "colab": {
          "base_uri": "https://localhost:8080/"
        },
        "id": "n7x2_xl1qYr1",
        "outputId": "3069a4ed-ad0c-4c3a-e54a-e0a141dcf0a2"
      },
      "execution_count": 14,
      "outputs": [
        {
          "output_type": "stream",
          "name": "stdout",
          "text": [
            "torch.Size([6])\n",
            "torch.float32\n",
            "tensor([1., 2., 3., 4., 5., 6.])\n"
          ]
        }
      ]
    },
    {
      "cell_type": "code",
      "source": [
        "# view permette di indicare il formato del tensore, in questo caso una matrice 6 X 1 (6 righe per 1 colonna).\n",
        "# la poszione dell'indice indica il livello di organizzazione degli elementi.\n",
        "v.view(6,1)"
      ],
      "metadata": {
        "colab": {
          "base_uri": "https://localhost:8080/"
        },
        "id": "k9zFP7PGwdNG",
        "outputId": "3a14a6e4-3d28-44ba-cc6d-38b26bc19c92"
      },
      "execution_count": 16,
      "outputs": [
        {
          "output_type": "execute_result",
          "data": {
            "text/plain": [
              "tensor([[1],\n",
              "        [2],\n",
              "        [3],\n",
              "        [4],\n",
              "        [5],\n",
              "        [6]])"
            ]
          },
          "metadata": {},
          "execution_count": 16
        }
      ]
    },
    {
      "cell_type": "code",
      "source": [
        "# possiamo omettere l'ultimo indice, view si occupera di identificare\n",
        "# automaticamente l'indice necessario per distribuire gli elementi\n",
        "# in base agli indici precedenti\n",
        "v.view(3,-1)"
      ],
      "metadata": {
        "colab": {
          "base_uri": "https://localhost:8080/"
        },
        "id": "Ch4OreKxxjTC",
        "outputId": "c92b22b6-7aa2-4ba4-9c70-29aacfb2c846"
      },
      "execution_count": 17,
      "outputs": [
        {
          "output_type": "execute_result",
          "data": {
            "text/plain": [
              "tensor([[1, 2],\n",
              "        [3, 4],\n",
              "        [5, 6]])"
            ]
          },
          "metadata": {},
          "execution_count": 17
        }
      ]
    }
  ]
}