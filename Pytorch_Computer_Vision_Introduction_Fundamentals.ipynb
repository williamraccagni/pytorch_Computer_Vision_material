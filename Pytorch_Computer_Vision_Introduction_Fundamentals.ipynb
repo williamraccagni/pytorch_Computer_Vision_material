{
  "nbformat": 4,
  "nbformat_minor": 0,
  "metadata": {
    "colab": {
      "provenance": [],
      "authorship_tag": "ABX9TyPQZIViA3ho8FvIA00oooDR"
    },
    "kernelspec": {
      "name": "python3",
      "display_name": "Python 3"
    },
    "language_info": {
      "name": "python"
    }
  },
  "cells": [
    {
      "cell_type": "markdown",
      "source": [
        "Torch Tensor Introduction"
      ],
      "metadata": {
        "id": "11Ro8zathPtC"
      }
    },
    {
      "cell_type": "code",
      "source": [
        "!pip3 install torch #Install Torch"
      ],
      "metadata": {
        "id": "DWQHLACchUS4",
        "colab": {
          "base_uri": "https://localhost:8080/"
        },
        "outputId": "0aa83b61-97ba-46aa-da08-56d01f046f20"
      },
      "execution_count": 1,
      "outputs": [
        {
          "output_type": "stream",
          "name": "stdout",
          "text": [
            "Looking in indexes: https://pypi.org/simple, https://us-python.pkg.dev/colab-wheels/public/simple/\n",
            "Requirement already satisfied: torch in /usr/local/lib/python3.10/dist-packages (2.0.1+cu118)\n",
            "Requirement already satisfied: filelock in /usr/local/lib/python3.10/dist-packages (from torch) (3.12.0)\n",
            "Requirement already satisfied: typing-extensions in /usr/local/lib/python3.10/dist-packages (from torch) (4.5.0)\n",
            "Requirement already satisfied: sympy in /usr/local/lib/python3.10/dist-packages (from torch) (1.11.1)\n",
            "Requirement already satisfied: networkx in /usr/local/lib/python3.10/dist-packages (from torch) (3.1)\n",
            "Requirement already satisfied: jinja2 in /usr/local/lib/python3.10/dist-packages (from torch) (3.1.2)\n",
            "Requirement already satisfied: triton==2.0.0 in /usr/local/lib/python3.10/dist-packages (from torch) (2.0.0)\n",
            "Requirement already satisfied: cmake in /usr/local/lib/python3.10/dist-packages (from triton==2.0.0->torch) (3.25.2)\n",
            "Requirement already satisfied: lit in /usr/local/lib/python3.10/dist-packages (from triton==2.0.0->torch) (16.0.5)\n",
            "Requirement already satisfied: MarkupSafe>=2.0 in /usr/local/lib/python3.10/dist-packages (from jinja2->torch) (2.1.2)\n",
            "Requirement already satisfied: mpmath>=0.19 in /usr/local/lib/python3.10/dist-packages (from sympy->torch) (1.3.0)\n"
          ]
        }
      ]
    },
    {
      "cell_type": "code",
      "source": [
        "#requirements\n",
        "import torch\n",
        "import numpy as np"
      ],
      "metadata": {
        "id": "VdAr7SDJy0Uu"
      },
      "execution_count": 2,
      "outputs": []
    },
    {
      "cell_type": "code",
      "source": [
        "#Create a Tensor, check type and values\n",
        "v = torch.tensor([1,2,3,4,5,6])\n",
        "print(v.dtype)\n",
        "print(v)"
      ],
      "metadata": {
        "id": "Y7mCZWAAhhtS",
        "colab": {
          "base_uri": "https://localhost:8080/"
        },
        "outputId": "b2dda533-4827-4924-82f2-1894627fb678"
      },
      "execution_count": 3,
      "outputs": [
        {
          "output_type": "stream",
          "name": "stdout",
          "text": [
            "torch.int64\n",
            "tensor([1, 2, 3, 4, 5, 6])\n"
          ]
        }
      ]
    },
    {
      "cell_type": "code",
      "source": [
        "# Create a Float Tensor, check size, type and values\n",
        "f = torch.FloatTensor([1,2,3,4,5,6])\n",
        "print(f.size())\n",
        "print(f.dtype)\n",
        "print(f)"
      ],
      "metadata": {
        "id": "XdljaeZ3yWiD",
        "colab": {
          "base_uri": "https://localhost:8080/"
        },
        "outputId": "266429ab-01b6-4d31-ec84-9392c5b6cc1e"
      },
      "execution_count": 4,
      "outputs": [
        {
          "output_type": "stream",
          "name": "stdout",
          "text": [
            "torch.Size([6])\n",
            "torch.float32\n",
            "tensor([1., 2., 3., 4., 5., 6.])\n"
          ]
        }
      ]
    },
    {
      "cell_type": "code",
      "source": [
        "# view permette di indicare il formato del tensore, in questo caso una matrice 6 X 1 (6 righe per 1 colonna).\n",
        "# la poszione dell'indice indica il livello di organizzazione degli elementi.\n",
        "v.view(6,1)"
      ],
      "metadata": {
        "id": "H13DdSfnyqfM",
        "colab": {
          "base_uri": "https://localhost:8080/"
        },
        "outputId": "21474af7-ee7f-4caa-a01a-e6a3627fd210"
      },
      "execution_count": 5,
      "outputs": [
        {
          "output_type": "execute_result",
          "data": {
            "text/plain": [
              "tensor([[1],\n",
              "        [2],\n",
              "        [3],\n",
              "        [4],\n",
              "        [5],\n",
              "        [6]])"
            ]
          },
          "metadata": {},
          "execution_count": 5
        }
      ]
    },
    {
      "cell_type": "code",
      "source": [
        "# possiamo omettere l'ultimo indice, view si occupera di identificare\n",
        "# automaticamente l'indice necessario per distribuire gli elementi\n",
        "# in base agli indici precedenti\n",
        "v.view(3,-1)"
      ],
      "metadata": {
        "id": "yqEEbVucyroa",
        "colab": {
          "base_uri": "https://localhost:8080/"
        },
        "outputId": "ee0c5897-e454-46b8-f3f7-680b6864f83b"
      },
      "execution_count": 6,
      "outputs": [
        {
          "output_type": "execute_result",
          "data": {
            "text/plain": [
              "tensor([[1, 2],\n",
              "        [3, 4],\n",
              "        [5, 6]])"
            ]
          },
          "metadata": {},
          "execution_count": 6
        }
      ]
    },
    {
      "cell_type": "code",
      "source": [
        "a = np.array([1,2,3,4,5,6])\n",
        "tensor_cnv = torch.from_numpy(a)\n",
        "print(tensor_cnv.type())\n",
        "print(tensor_cnv)"
      ],
      "metadata": {
        "colab": {
          "base_uri": "https://localhost:8080/"
        },
        "id": "2W2JkY339g4u",
        "outputId": "28ef6bed-0159-4e42-d80c-c4c8f4e03b33"
      },
      "execution_count": 7,
      "outputs": [
        {
          "output_type": "stream",
          "name": "stdout",
          "text": [
            "torch.LongTensor\n",
            "tensor([1, 2, 3, 4, 5, 6])\n"
          ]
        }
      ]
    },
    {
      "cell_type": "code",
      "source": [
        "numpy_cnv = tensor_cnv.numpy\n",
        "print(numpy_cnv)"
      ],
      "metadata": {
        "colab": {
          "base_uri": "https://localhost:8080/"
        },
        "id": "q0typ0hQ9hHj",
        "outputId": "fb647b8b-7cea-4b5d-e75a-5635f6c52dea"
      },
      "execution_count": 8,
      "outputs": [
        {
          "output_type": "stream",
          "name": "stdout",
          "text": [
            "<built-in method numpy of Tensor object at 0x7f87dbac9990>\n"
          ]
        }
      ]
    },
    {
      "cell_type": "markdown",
      "source": [
        "Views and Matrix Moltiplications"
      ],
      "metadata": {
        "id": "S-AuRs48-g3B"
      }
    },
    {
      "cell_type": "code",
      "source": [
        "# equivalente di range per tensor\n",
        "one_d = torch.arange(0, 9)\n",
        "one_d"
      ],
      "metadata": {
        "id": "OvZTvM9X-1OQ",
        "colab": {
          "base_uri": "https://localhost:8080/"
        },
        "outputId": "8a12be95-54a0-4c23-cd99-d375f2b5a084"
      },
      "execution_count": 9,
      "outputs": [
        {
          "output_type": "execute_result",
          "data": {
            "text/plain": [
              "tensor([0, 1, 2, 3, 4, 5, 6, 7, 8])"
            ]
          },
          "metadata": {},
          "execution_count": 9
        }
      ]
    },
    {
      "cell_type": "code",
      "source": [
        "two_d = one_d.view(3, 3)\n",
        "two_d"
      ],
      "metadata": {
        "colab": {
          "base_uri": "https://localhost:8080/"
        },
        "id": "hUdyOaXteYqN",
        "outputId": "830382a6-8c4e-4de3-bf42-c0931426e67d"
      },
      "execution_count": 10,
      "outputs": [
        {
          "output_type": "execute_result",
          "data": {
            "text/plain": [
              "tensor([[0, 1, 2],\n",
              "        [3, 4, 5],\n",
              "        [6, 7, 8]])"
            ]
          },
          "metadata": {},
          "execution_count": 10
        }
      ]
    },
    {
      "cell_type": "code",
      "source": [
        "two_d.dim()"
      ],
      "metadata": {
        "colab": {
          "base_uri": "https://localhost:8080/"
        },
        "id": "4fSj9nWzebqJ",
        "outputId": "0d30e2d3-fd38-486a-c724-73aabf594488"
      },
      "execution_count": 11,
      "outputs": [
        {
          "output_type": "execute_result",
          "data": {
            "text/plain": [
              "2"
            ]
          },
          "metadata": {},
          "execution_count": 11
        }
      ]
    },
    {
      "cell_type": "code",
      "source": [
        "two_d[1,2]"
      ],
      "metadata": {
        "colab": {
          "base_uri": "https://localhost:8080/"
        },
        "id": "1vT04aAEedwX",
        "outputId": "db1812cb-96c5-4c09-8200-1a118f2ce850"
      },
      "execution_count": 12,
      "outputs": [
        {
          "output_type": "execute_result",
          "data": {
            "text/plain": [
              "tensor(5)"
            ]
          },
          "metadata": {},
          "execution_count": 12
        }
      ]
    },
    {
      "cell_type": "code",
      "source": [
        "x = torch.arange(0,18).view(3,2,3)\n",
        "x"
      ],
      "metadata": {
        "colab": {
          "base_uri": "https://localhost:8080/"
        },
        "id": "UHqOKSwaefcG",
        "outputId": "77aee98e-e910-4de7-ca10-d492afa9250d"
      },
      "execution_count": 13,
      "outputs": [
        {
          "output_type": "execute_result",
          "data": {
            "text/plain": [
              "tensor([[[ 0,  1,  2],\n",
              "         [ 3,  4,  5]],\n",
              "\n",
              "        [[ 6,  7,  8],\n",
              "         [ 9, 10, 11]],\n",
              "\n",
              "        [[12, 13, 14],\n",
              "         [15, 16, 17]]])"
            ]
          },
          "metadata": {},
          "execution_count": 13
        }
      ]
    },
    {
      "cell_type": "code",
      "source": [
        "x[1,:,1]"
      ],
      "metadata": {
        "colab": {
          "base_uri": "https://localhost:8080/"
        },
        "id": "YEw-xuq6egHb",
        "outputId": "2a15cc55-b1ca-4edc-9a9f-cbbdcb11de6d"
      },
      "execution_count": 14,
      "outputs": [
        {
          "output_type": "execute_result",
          "data": {
            "text/plain": [
              "tensor([ 7, 10])"
            ]
          },
          "metadata": {},
          "execution_count": 14
        }
      ]
    },
    {
      "cell_type": "code",
      "source": [
        "mat_a = torch.tensor([0,3,5,5,5,2]).view(2,-1)\n",
        "mat_b = torch.tensor([3,4,3,-2,4,-2]).view(3,-1)"
      ],
      "metadata": {
        "id": "_lzF9eGSehgi"
      },
      "execution_count": 15,
      "outputs": []
    },
    {
      "cell_type": "code",
      "source": [
        "torch.matmul(mat_a, mat_b)"
      ],
      "metadata": {
        "colab": {
          "base_uri": "https://localhost:8080/"
        },
        "id": "j6mgVi-uejGT",
        "outputId": "a6fdf01e-4a9a-4b53-a795-28d5af8c7f6c"
      },
      "execution_count": 16,
      "outputs": [
        {
          "output_type": "execute_result",
          "data": {
            "text/plain": [
              "tensor([[ 29, -16],\n",
              "        [ 38,   6]])"
            ]
          },
          "metadata": {},
          "execution_count": 16
        }
      ]
    },
    {
      "cell_type": "code",
      "source": [
        "mat_a @ mat_b"
      ],
      "metadata": {
        "colab": {
          "base_uri": "https://localhost:8080/"
        },
        "id": "TITw0yA5ekcy",
        "outputId": "ae365749-be6c-408c-eda2-a4358f24be47"
      },
      "execution_count": 17,
      "outputs": [
        {
          "output_type": "execute_result",
          "data": {
            "text/plain": [
              "tensor([[ 29, -16],\n",
              "        [ 38,   6]])"
            ]
          },
          "metadata": {},
          "execution_count": 17
        }
      ]
    },
    {
      "cell_type": "markdown",
      "source": [
        "Tensors Operations"
      ],
      "metadata": {
        "id": "ID-414Qee-EL"
      }
    },
    {
      "cell_type": "code",
      "source": [
        "#for visualization\n",
        "import matplotlib.pyplot as plt"
      ],
      "metadata": {
        "id": "cUKQr5ZLfA7U"
      },
      "execution_count": 18,
      "outputs": []
    },
    {
      "cell_type": "code",
      "source": [
        "t_one = torch.tensor([1,2,3])\n",
        "t_two = torch.tensor([1,2,3])\n",
        "t_three = t_one + t_two\n",
        "print(t_three)\n",
        "# prodotto vettoriale\n",
        "t_four = t_one * t_two\n",
        "print(t_four)\n",
        "# pordotto scalare\n",
        "t_five = t_one * 5\n",
        "print(t_five)\n",
        "# prodotto dot\n",
        "t_six = torch.dot(t_one, t_two)\n",
        "print(t_six)"
      ],
      "metadata": {
        "colab": {
          "base_uri": "https://localhost:8080/"
        },
        "id": "A3FKacqSfKtU",
        "outputId": "2d64eefd-77ee-43d0-bb18-15206de0ed15"
      },
      "execution_count": 19,
      "outputs": [
        {
          "output_type": "stream",
          "name": "stdout",
          "text": [
            "tensor([2, 4, 6])\n",
            "tensor([1, 4, 9])\n",
            "tensor([ 5, 10, 15])\n",
            "tensor(14)\n"
          ]
        }
      ]
    },
    {
      "cell_type": "code",
      "source": [
        "# stampa 100 numeri equalmente distanziati, da 0 a 100 compresi\n",
        "step = 100\n",
        "x = lin_vec = torch.linspace(0, 10, step)\n",
        "# vettore esponenziale dei valori di x\n",
        "y = torch.exp(x)\n",
        "# sin\n",
        "y = torch.sin(x)"
      ],
      "metadata": {
        "id": "-uuEH7Qhi7P1"
      },
      "execution_count": 20,
      "outputs": []
    },
    {
      "cell_type": "code",
      "source": [
        "plt.plot(x, y)"
      ],
      "metadata": {
        "colab": {
          "base_uri": "https://localhost:8080/",
          "height": 447
        },
        "id": "w46mtHDzi8wM",
        "outputId": "f230d620-9121-4609-e855-5001502f4fb9"
      },
      "execution_count": 21,
      "outputs": [
        {
          "output_type": "execute_result",
          "data": {
            "text/plain": [
              "[<matplotlib.lines.Line2D at 0x7f87dbb0f100>]"
            ]
          },
          "metadata": {},
          "execution_count": 21
        },
        {
          "output_type": "display_data",
          "data": {
            "text/plain": [
              "<Figure size 640x480 with 1 Axes>"
            ],
            "image/png": "[encoded data removed]"
          },
          "metadata": {}
        }
      ]
    },
    {
      "cell_type": "markdown",
      "source": [
        "Deriavates Review"
      ],
      "metadata": {
        "id": "OuC7T8r9jIAU"
      }
    },
    {
      "cell_type": "code",
      "source": [
        "x = torch.tensor(2.0, requires_grad = True)\n",
        "y = 9*x**4 + 2*x**3 + 3*x**2 + 6*x + 1 # funzione target\n",
        "y.backward()\n",
        "x.grad"
      ],
      "metadata": {
        "colab": {
          "base_uri": "https://localhost:8080/"
        },
        "id": "n3VgqhoCjKHn",
        "outputId": "f7c672f4-192c-448b-9fd6-61ae40e2e389"
      },
      "execution_count": 22,
      "outputs": [
        {
          "output_type": "execute_result",
          "data": {
            "text/plain": [
              "tensor(330.)"
            ]
          },
          "metadata": {},
          "execution_count": 22
        }
      ]
    },
    {
      "cell_type": "code",
      "source": [
        "x = torch.tensor(1.0, requires_grad = True)\n",
        "z = torch.tensor(2.0, requires_grad = True)\n",
        "y = x**2 + z**3 # funzione target\n",
        "y.backward()\n",
        "x.grad"
      ],
      "metadata": {
        "colab": {
          "base_uri": "https://localhost:8080/"
        },
        "id": "sleVd46a8hSo",
        "outputId": "2d3be6a3-43f8-40be-ef6f-31dcadd5b714"
      },
      "execution_count": 23,
      "outputs": [
        {
          "output_type": "execute_result",
          "data": {
            "text/plain": [
              "tensor(2.)"
            ]
          },
          "metadata": {},
          "execution_count": 23
        }
      ]
    },
    {
      "cell_type": "code",
      "source": [
        "z.grad"
      ],
      "metadata": {
        "colab": {
          "base_uri": "https://localhost:8080/"
        },
        "id": "82s8fZYT8ip-",
        "outputId": "d3af8dd3-a663-49ad-8872-25bbc90b8212"
      },
      "execution_count": 24,
      "outputs": [
        {
          "output_type": "execute_result",
          "data": {
            "text/plain": [
              "tensor(12.)"
            ]
          },
          "metadata": {},
          "execution_count": 24
        }
      ]
    }
  ]
}