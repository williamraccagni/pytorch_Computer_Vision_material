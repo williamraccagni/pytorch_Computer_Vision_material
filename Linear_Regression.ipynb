{
  "nbformat": 4,
  "nbformat_minor": 0,
  "metadata": {
    "colab": {
      "provenance": [],
      "authorship_tag": "ABX9TyOHBG9NI0QHKSMgKPVSBp0U"
    },
    "kernelspec": {
      "name": "python3",
      "display_name": "Python 3"
    },
    "language_info": {
      "name": "python"
    }
  },
  "cells": [
    {
      "cell_type": "code",
      "execution_count": 1,
      "metadata": {
        "colab": {
          "base_uri": "https://localhost:8080/"
        },
        "id": "0M-ViSJP-LFM",
        "outputId": "407a3c57-641b-400d-ec0a-bbf7bb6b22d7"
      },
      "outputs": [
        {
          "output_type": "stream",
          "name": "stdout",
          "text": [
            "Looking in indexes: https://pypi.org/simple, https://us-python.pkg.dev/colab-wheels/public/simple/\n",
            "Requirement already satisfied: torch in /usr/local/lib/python3.8/dist-packages (1.13.0+cu116)\n",
            "Requirement already satisfied: typing-extensions in /usr/local/lib/python3.8/dist-packages (from torch) (4.4.0)\n"
          ]
        }
      ],
      "source": [
        "!pip3 install torch"
      ]
    },
    {
      "cell_type": "code",
      "source": [
        "import torch"
      ],
      "metadata": {
        "id": "EyU1My0MDFyo"
      },
      "execution_count": 2,
      "outputs": []
    },
    {
      "cell_type": "markdown",
      "source": [
        "Intro"
      ],
      "metadata": {
        "id": "1XMp410yHj3r"
      }
    },
    {
      "cell_type": "code",
      "source": [
        "w = torch.tensor(3.0, requires_grad=True)\n",
        "b = torch.tensor(1.0, requires_grad=True) #bias"
      ],
      "metadata": {
        "id": "UTQGqJ4PElK5"
      },
      "execution_count": 3,
      "outputs": []
    },
    {
      "cell_type": "code",
      "source": [
        "def forward(x):\n",
        "  y = w * x + b\n",
        "  return y"
      ],
      "metadata": {
        "id": "y0KJsqDaFq9T"
      },
      "execution_count": 4,
      "outputs": []
    },
    {
      "cell_type": "code",
      "source": [
        "x = torch.tensor([[4],[7]])\n",
        "forward(x)"
      ],
      "metadata": {
        "colab": {
          "base_uri": "https://localhost:8080/"
        },
        "id": "1R09T9diF2lP",
        "outputId": "c5ed720b-5bc1-4c11-e6c8-c34c0a44ed99"
      },
      "execution_count": 5,
      "outputs": [
        {
          "output_type": "execute_result",
          "data": {
            "text/plain": [
              "tensor([[13.],\n",
              "        [22.]], grad_fn=<AddBackward0>)"
            ]
          },
          "metadata": {},
          "execution_count": 5
        }
      ]
    },
    {
      "cell_type": "markdown",
      "source": [
        "Torch Linear Model"
      ],
      "metadata": {
        "id": "51VZxyZnHl3Q"
      }
    },
    {
      "cell_type": "code",
      "source": [
        "# import torch\n",
        "from torch.nn import Linear"
      ],
      "metadata": {
        "id": "1L9-hzXTHoMz"
      },
      "execution_count": 6,
      "outputs": []
    },
    {
      "cell_type": "code",
      "source": [
        "torch.manual_seed(1) # setting seed per generare w e b casualmente\n",
        "model = Linear(in_features=1, out_features=1) # 1 input 1 output\n",
        "print(model.bias, model.weight) #stampa bias e weight"
      ],
      "metadata": {
        "colab": {
          "base_uri": "https://localhost:8080/"
        },
        "id": "KIJb3rr7WnHs",
        "outputId": "5465e735-bc60-4bfb-ddc1-5b17da496822"
      },
      "execution_count": 7,
      "outputs": [
        {
          "output_type": "stream",
          "name": "stdout",
          "text": [
            "Parameter containing:\n",
            "tensor([-0.4414], requires_grad=True) Parameter containing:\n",
            "tensor([[0.5153]], requires_grad=True)\n"
          ]
        }
      ]
    },
    {
      "cell_type": "code",
      "source": [
        "x = torch.tensor([ [2.0], [3.3]])\n",
        "model(x)"
      ],
      "metadata": {
        "colab": {
          "base_uri": "https://localhost:8080/"
        },
        "id": "IC0yj6NAaIr-",
        "outputId": "a559d458-e550-43bb-ff3d-e8aa07016f40"
      },
      "execution_count": 8,
      "outputs": [
        {
          "output_type": "execute_result",
          "data": {
            "text/plain": [
              "tensor([[0.5891],\n",
              "        [1.2590]], grad_fn=<AddmmBackward0>)"
            ]
          },
          "metadata": {},
          "execution_count": 8
        }
      ]
    },
    {
      "cell_type": "markdown",
      "source": [
        "Custom Modules"
      ],
      "metadata": {
        "id": "XeiiAfP-dexx"
      }
    },
    {
      "cell_type": "code",
      "source": [
        "import torch\n",
        "import torch.nn as nn\n",
        "import matplotlib.pyplot as plt\n",
        "import numpy as np"
      ],
      "metadata": {
        "id": "yVfTI969dhHN"
      },
      "execution_count": 9,
      "outputs": []
    },
    {
      "cell_type": "code",
      "source": [
        "# Making a synthetic Dataset\n",
        "# tensore con numeri casuali\n",
        "torch.manual_seed(1) # settare un seed fisso\n",
        "X = torch.randn(100, 1) * 10 # vettore di valori in una matrice  \n",
        "y = X + 3 * torch.randn(100,1) # etichette random\n",
        "plt.plot(X.numpy(), y.numpy(), 'o')\n",
        "plt.ylabel('y')\n",
        "plt.xlabel('x')"
      ],
      "metadata": {
        "colab": {
          "base_uri": "https://localhost:8080/",
          "height": 296
        },
        "id": "1x4e7fBTCJEs",
        "outputId": "36a3d9ea-c6e9-47c8-bd8e-92be26691406"
      },
      "execution_count": 10,
      "outputs": [
        {
          "output_type": "execute_result",
          "data": {
            "text/plain": [
              "Text(0.5, 0, 'x')"
            ]
          },
          "metadata": {},
          "execution_count": 10
        },
        {
          "output_type": "display_data",
          "data": {
            "text/plain": [
              "<Figure size 432x288 with 1 Axes>"
            ],
            "image/png": "[encoded data removed]"
          },
          "metadata": {
            "needs_background": "light"
          }
        }
      ]
    },
    {
      "cell_type": "code",
      "source": [
        "class LR (nn.Module): # estendo nn.module\n",
        "  def __init__(self, input_size, output_size): #overloading \n",
        "    super().__init__()\n",
        "    self.linear = nn.Linear(input_size, output_size)\n",
        "  def forward(self, x):\n",
        "    pred = self.linear(x) # pred -> prediction\n",
        "    return pred"
      ],
      "metadata": {
        "id": "mt9_7i0sdoxt"
      },
      "execution_count": 11,
      "outputs": []
    },
    {
      "cell_type": "code",
      "source": [
        "torch.manual_seed(1)\n",
        "model = LR(1,1)\n",
        "# print(list(model.parameters()))\n",
        "print(model)"
      ],
      "metadata": {
        "colab": {
          "base_uri": "https://localhost:8080/"
        },
        "id": "xPADC7A0w8ao",
        "outputId": "0cbca535-2e74-4b18-fb64-66418140e09b"
      },
      "execution_count": 12,
      "outputs": [
        {
          "output_type": "stream",
          "name": "stdout",
          "text": [
            "LR(\n",
            "  (linear): Linear(in_features=1, out_features=1, bias=True)\n",
            ")\n"
          ]
        }
      ]
    },
    {
      "cell_type": "code",
      "source": [
        "# x = torch.tensor([[1.0], [2.0]])\n",
        "# model.forward(x)"
      ],
      "metadata": {
        "id": "jbm43pRP2qQS"
      },
      "execution_count": 13,
      "outputs": []
    },
    {
      "cell_type": "code",
      "source": [
        "[w, b] = model.parameters()\n",
        "#print(w, b)\n",
        "# wl = w[0][0].item( )\n",
        "# bl = b[0].item()\n",
        "# print(wl, bl)\n",
        "\n",
        "def get_params():\n",
        "  return (w[0][0].item(), b[0].item())"
      ],
      "metadata": {
        "id": "3gK4QGL7RjC9"
      },
      "execution_count": 14,
      "outputs": []
    },
    {
      "cell_type": "code",
      "source": [
        "def plot_fit(title):\n",
        "  plt.title = title\n",
        "  wl, bl = get_params()\n",
        "  x1 = np.array([-30, 30])\n",
        "  y1 = wl*x1 + bl\n",
        "  plt.plot(x1, y1, 'r')\n",
        "  plt.scatter(X, y)\n",
        "  plt.show()"
      ],
      "metadata": {
        "id": "qOVC2IklWn3U"
      },
      "execution_count": 15,
      "outputs": []
    },
    {
      "cell_type": "code",
      "source": [
        "plot_fit('Initial model')"
      ],
      "metadata": {
        "colab": {
          "base_uri": "https://localhost:8080/",
          "height": 265
        },
        "id": "3iVu4EwiahRj",
        "outputId": "5f8a2f3a-c3d7-4a56-a8f7-5a75912f9623"
      },
      "execution_count": 16,
      "outputs": [
        {
          "output_type": "display_data",
          "data": {
            "text/plain": [
              "<Figure size 432x288 with 1 Axes>"
            ],
            "image/png": "[encoded data removed]"
          },
          "metadata": {
            "needs_background": "light"
          }
        }
      ]
    },
    {
      "cell_type": "markdown",
      "source": [
        "Implementing gradient descent"
      ],
      "metadata": {
        "id": "DGnvvwZ8bHc6"
      }
    },
    {
      "cell_type": "code",
      "source": [
        "# Mean Square Loss\n",
        "criterion = nn.MSELoss()\n",
        "# stocastic gradient descent, riduce la perdita un sample alla volta\n",
        "optimizer = torch.optim.SGD(model.parameters(), lr=0.01)"
      ],
      "metadata": {
        "id": "oe2BbbpBbJid"
      },
      "execution_count": 17,
      "outputs": []
    },
    {
      "cell_type": "code",
      "source": [
        "epochs = 100\n",
        "losses = []\n",
        "for i in range(epochs):\n",
        "  y_pred = model.forward(X)\n",
        "  loss = criterion(y_pred, y)\n",
        "  print(\"epoch: \", i, \"loss: \", loss.item())\n",
        "\n",
        "  # aggiunta detach per evitare bug nella visualizzazione\n",
        "  losses.append(loss.detach().numpy()) # make a list of losses\n",
        "  # set the gradient to zero beacause gradinets accumulate following \n",
        "  # the last backward call\n",
        "  optimizer.zero_grad()\n",
        "  # we take the the gradient of the loss function (deriavte)\n",
        "  loss.backward()\n",
        "  # update the parameters with the optimizer with the gradient computerd before\n",
        "  # we use this optimization algorithm (in this case Stochastic Gradient Descent)\n",
        "  # to update model weights in the direction of the least error.\n",
        "  # By minimizing the error function of our model as we attempt to minimize the\n",
        "  # loss iteratively to obtain a model with optimal parameters, the model that\n",
        "  # best fit the data.\n",
        "  optimizer.step()"
      ],
      "metadata": {
        "colab": {
          "base_uri": "https://localhost:8080/"
        },
        "id": "YJZNwj8vOizm",
        "outputId": "1892b771-7363-4b1d-afd7-e5a3c18f2e38"
      },
      "execution_count": 28,
      "outputs": [
        {
          "output_type": "stream",
          "name": "stdout",
          "text": [
            "epoch:  0 loss:  10.330840110778809\n",
            "epoch:  1 loss:  10.315887451171875\n",
            "epoch:  2 loss:  10.3015718460083\n",
            "epoch:  3 loss:  10.287869453430176\n",
            "epoch:  4 loss:  10.274754524230957\n",
            "epoch:  5 loss:  10.262201309204102\n",
            "epoch:  6 loss:  10.250182151794434\n",
            "epoch:  7 loss:  10.238677024841309\n",
            "epoch:  8 loss:  10.227664947509766\n",
            "epoch:  9 loss:  10.21712589263916\n",
            "epoch:  10 loss:  10.207035064697266\n",
            "epoch:  11 loss:  10.197376251220703\n",
            "epoch:  12 loss:  10.188131332397461\n",
            "epoch:  13 loss:  10.179282188415527\n",
            "epoch:  14 loss:  10.170811653137207\n",
            "epoch:  15 loss:  10.162701606750488\n",
            "epoch:  16 loss:  10.154938697814941\n",
            "epoch:  17 loss:  10.147509574890137\n",
            "epoch:  18 loss:  10.140397071838379\n",
            "epoch:  19 loss:  10.133588790893555\n",
            "epoch:  20 loss:  10.127071380615234\n",
            "epoch:  21 loss:  10.120833396911621\n",
            "epoch:  22 loss:  10.114862442016602\n",
            "epoch:  23 loss:  10.109146118164062\n",
            "epoch:  24 loss:  10.103673934936523\n",
            "epoch:  25 loss:  10.09843635559082\n",
            "epoch:  26 loss:  10.093422889709473\n",
            "epoch:  27 loss:  10.088624000549316\n",
            "epoch:  28 loss:  10.084030151367188\n",
            "epoch:  29 loss:  10.079632759094238\n",
            "epoch:  30 loss:  10.075423240661621\n",
            "epoch:  31 loss:  10.071394920349121\n",
            "epoch:  32 loss:  10.067536354064941\n",
            "epoch:  33 loss:  10.06384563446045\n",
            "epoch:  34 loss:  10.060311317443848\n",
            "epoch:  35 loss:  10.056927680969238\n",
            "epoch:  36 loss:  10.053689956665039\n",
            "epoch:  37 loss:  10.050590515136719\n",
            "epoch:  38 loss:  10.047623634338379\n",
            "epoch:  39 loss:  10.044782638549805\n",
            "epoch:  40 loss:  10.042062759399414\n",
            "epoch:  41 loss:  10.039460182189941\n",
            "epoch:  42 loss:  10.036969184875488\n",
            "epoch:  43 loss:  10.034584045410156\n",
            "epoch:  44 loss:  10.03230094909668\n",
            "epoch:  45 loss:  10.030115127563477\n",
            "epoch:  46 loss:  10.028024673461914\n",
            "epoch:  47 loss:  10.026022911071777\n",
            "epoch:  48 loss:  10.024105072021484\n",
            "epoch:  49 loss:  10.022270202636719\n",
            "epoch:  50 loss:  10.020514488220215\n",
            "epoch:  51 loss:  10.018834114074707\n",
            "epoch:  52 loss:  10.017224311828613\n",
            "epoch:  53 loss:  10.0156831741333\n",
            "epoch:  54 loss:  10.014209747314453\n",
            "epoch:  55 loss:  10.012798309326172\n",
            "epoch:  56 loss:  10.011446952819824\n",
            "epoch:  57 loss:  10.010152816772461\n",
            "epoch:  58 loss:  10.008914947509766\n",
            "epoch:  59 loss:  10.007730484008789\n",
            "epoch:  60 loss:  10.00659465789795\n",
            "epoch:  61 loss:  10.005509376525879\n",
            "epoch:  62 loss:  10.00446891784668\n",
            "epoch:  63 loss:  10.003474235534668\n",
            "epoch:  64 loss:  10.002521514892578\n",
            "epoch:  65 loss:  10.001608848571777\n",
            "epoch:  66 loss:  10.000736236572266\n",
            "epoch:  67 loss:  9.999900817871094\n",
            "epoch:  68 loss:  9.999100685119629\n",
            "epoch:  69 loss:  9.998334884643555\n",
            "epoch:  70 loss:  9.997603416442871\n",
            "epoch:  71 loss:  9.996899604797363\n",
            "epoch:  72 loss:  9.99622917175293\n",
            "epoch:  73 loss:  9.995586395263672\n",
            "epoch:  74 loss:  9.994969367980957\n",
            "epoch:  75 loss:  9.99438190460205\n",
            "epoch:  76 loss:  9.993816375732422\n",
            "epoch:  77 loss:  9.993277549743652\n",
            "epoch:  78 loss:  9.992759704589844\n",
            "epoch:  79 loss:  9.992265701293945\n",
            "epoch:  80 loss:  9.991791725158691\n",
            "epoch:  81 loss:  9.991338729858398\n",
            "epoch:  82 loss:  9.990904808044434\n",
            "epoch:  83 loss:  9.990489959716797\n",
            "epoch:  84 loss:  9.990091323852539\n",
            "epoch:  85 loss:  9.98971176147461\n",
            "epoch:  86 loss:  9.989346504211426\n",
            "epoch:  87 loss:  9.988998413085938\n",
            "epoch:  88 loss:  9.988663673400879\n",
            "epoch:  89 loss:  9.988344192504883\n",
            "epoch:  90 loss:  9.988038063049316\n",
            "epoch:  91 loss:  9.98774528503418\n",
            "epoch:  92 loss:  9.987464904785156\n",
            "epoch:  93 loss:  9.987196922302246\n",
            "epoch:  94 loss:  9.986939430236816\n",
            "epoch:  95 loss:  9.986693382263184\n",
            "epoch:  96 loss:  9.986458778381348\n",
            "epoch:  97 loss:  9.98623275756836\n",
            "epoch:  98 loss:  9.986017227172852\n",
            "epoch:  99 loss:  9.985810279846191\n"
          ]
        }
      ]
    },
    {
      "cell_type": "code",
      "source": [
        "plt.plot(range(epochs), losses)\n",
        "plt.ylabel(\"Loss\")\n",
        "plt.xlabel(\"epoch\")"
      ],
      "metadata": {
        "colab": {
          "base_uri": "https://localhost:8080/",
          "height": 296
        },
        "id": "TtGr58SXeTYs",
        "outputId": "121431d0-42e8-4161-fc47-5b474190e44e"
      },
      "execution_count": 29,
      "outputs": [
        {
          "output_type": "execute_result",
          "data": {
            "text/plain": [
              "Text(0.5, 0, 'epoch')"
            ]
          },
          "metadata": {},
          "execution_count": 29
        },
        {
          "output_type": "display_data",
          "data": {
            "text/plain": [
              "<Figure size 432x288 with 1 Axes>"
            ],
            "image/png": "[encoded data removed]"
          },
          "metadata": {
            "needs_background": "light"
          }
        }
      ]
    },
    {
      "cell_type": "code",
      "source": [
        "plot_fit(\"Trained Model\")"
      ],
      "metadata": {
        "colab": {
          "base_uri": "https://localhost:8080/",
          "height": 265
        },
        "id": "rci6ZPUYgYdi",
        "outputId": "4e432fac-676b-476b-8fbc-daf2aec7d1c7"
      },
      "execution_count": 30,
      "outputs": [
        {
          "output_type": "display_data",
          "data": {
            "text/plain": [
              "<Figure size 432x288 with 1 Axes>"
            ],
            "image/png": "[encoded data removed]"
          },
          "metadata": {
            "needs_background": "light"
          }
        }
      ]
    }
  ]
}