{
  "nbformat": 4,
  "nbformat_minor": 0,
  "metadata": {
    "colab": {
      "provenance": [],
      "authorship_tag": "ABX9TyMPLG4rwOuov5ICjlZEz+GZ"
    },
    "kernelspec": {
      "name": "python3",
      "display_name": "Python 3"
    },
    "language_info": {
      "name": "python"
    }
  },
  "cells": [
    {
      "cell_type": "markdown",
      "source": [
        "!pip3 install torch"
      ],
      "metadata": {
        "id": "kU0xDe39gqIe"
      }
    },
    {
      "cell_type": "code",
      "source": [
        "import torch\n",
        "import numpy as np"
      ],
      "metadata": {
        "id": "43z-RE70p_7o"
      },
      "execution_count": null,
      "outputs": []
    },
    {
      "cell_type": "code",
      "source": [
        "v = torch.tensor([1,2,3,4,5,6])\n",
        "print(v.dtype)\n",
        "print(v)"
      ],
      "metadata": {
        "colab": {
          "base_uri": "https://localhost:8080/"
        },
        "id": "IzPJT0gPqLB8",
        "outputId": "87d9b6e2-fbab-459a-8f88-9d277df7fa0f"
      },
      "execution_count": null,
      "outputs": [
        {
          "output_type": "stream",
          "name": "stdout",
          "text": [
            "torch.int64\n",
            "tensor([1, 2, 3, 4, 5, 6])\n"
          ]
        }
      ]
    },
    {
      "cell_type": "code",
      "source": [
        "f = torch.FloatTensor([1,2,3,4,5,6])\n",
        "print(f.size())\n",
        "print(f.dtype)\n",
        "print(f)"
      ],
      "metadata": {
        "colab": {
          "base_uri": "https://localhost:8080/"
        },
        "id": "n7x2_xl1qYr1",
        "outputId": "27e1500b-1dd1-4927-ef02-c5866fbcd0a6"
      },
      "execution_count": null,
      "outputs": [
        {
          "output_type": "stream",
          "name": "stdout",
          "text": [
            "torch.Size([6])\n",
            "torch.float32\n",
            "tensor([1., 2., 3., 4., 5., 6.])\n"
          ]
        }
      ]
    },
    {
      "cell_type": "code",
      "source": [
        "# view permette di indicare il formato del tensore, in questo caso una matrice 6 X 1 (6 righe per 1 colonna).\n",
        "# la poszione dell'indice indica il livello di organizzazione degli elementi.\n",
        "v.view(6,1)"
      ],
      "metadata": {
        "colab": {
          "base_uri": "https://localhost:8080/"
        },
        "id": "k9zFP7PGwdNG",
        "outputId": "7b6a6e69-b0f2-4d9c-d5ed-c9e49836c34c"
      },
      "execution_count": null,
      "outputs": [
        {
          "output_type": "execute_result",
          "data": {
            "text/plain": [
              "tensor([[1],\n",
              "        [2],\n",
              "        [3],\n",
              "        [4],\n",
              "        [5],\n",
              "        [6]])"
            ]
          },
          "metadata": {},
          "execution_count": 22
        }
      ]
    },
    {
      "cell_type": "code",
      "source": [
        "# possiamo omettere l'ultimo indice, view si occupera di identificare\n",
        "# automaticamente l'indice necessario per distribuire gli elementi\n",
        "# in base agli indici precedenti\n",
        "v.view(3,-1)"
      ],
      "metadata": {
        "colab": {
          "base_uri": "https://localhost:8080/"
        },
        "id": "Ch4OreKxxjTC",
        "outputId": "fc1053cd-efd6-452e-9f64-a1201bccbe10"
      },
      "execution_count": null,
      "outputs": [
        {
          "output_type": "execute_result",
          "data": {
            "text/plain": [
              "tensor([[1, 2],\n",
              "        [3, 4],\n",
              "        [5, 6]])"
            ]
          },
          "metadata": {},
          "execution_count": 23
        }
      ]
    },
    {
      "cell_type": "code",
      "source": [
        "a = np.array([1,2,3,4,5,6])\n",
        "tensor_cnv = torch.from_numpy(a)\n",
        "print(tensor_cnv.type())\n",
        "print(tensor_cnv)"
      ],
      "metadata": {
        "colab": {
          "base_uri": "https://localhost:8080/"
        },
        "id": "H7cnGQfe0NFP",
        "outputId": "3f07860f-63ee-43cf-c613-53023d2c4ece"
      },
      "execution_count": null,
      "outputs": [
        {
          "output_type": "stream",
          "name": "stdout",
          "text": [
            "torch.LongTensor\n",
            "tensor([1, 2, 3, 4, 5, 6])\n"
          ]
        }
      ]
    },
    {
      "cell_type": "code",
      "source": [
        "numpy_cnv = tensor_cnv.numpy\n",
        "print(numpy_cnv)"
      ],
      "metadata": {
        "colab": {
          "base_uri": "https://localhost:8080/"
        },
        "id": "WdDJZKpN1ycq",
        "outputId": "9b9113d9-13d9-4f97-fbdb-c528a3459894"
      },
      "execution_count": null,
      "outputs": [
        {
          "output_type": "stream",
          "name": "stdout",
          "text": [
            "<built-in method numpy of Tensor object at 0x7fddd73bae00>\n"
          ]
        }
      ]
    }
  ]
}